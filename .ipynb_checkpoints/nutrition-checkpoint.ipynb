{
 "cells": [
  {
   "cell_type": "markdown",
   "metadata": {},
   "source": [
    "# Nutritional Facts for most common foods\n",
    "Source: https://www.kaggle.com/datasets/niharika41298/nutrition-details-for-most-common-foods  \n",
    "(this is the larger dataset)"
   ]
  },
  {
   "cell_type": "markdown",
   "metadata": {},
   "source": [
    "### Possible scenario ??:  \n",
    "- A nutritionist creates custom diet plans for clients with medically-necessary dietary needs and wellness goals\n",
    "- They want to be able to break down prescribed diets by the meal and the recipe, and to have the ability to specify calories, macro and micronutrients, and vitamins/minerals\n",
    "- We have met with the client and obtained the following dataset detailing this information for an array of pre-defined meals. The client would like to be able to input their client's nutrition requirements and discover which meals to offer the client.  \n",
    "- This input contains several parts:  \n",
    "1. what the client likes and doesn't like to eat  \n",
    "2. the nutritionist's breakdown specifying the client's prescription for that meal. \n",
    "\n",
    "- The returned result will be the meals which fit the client's taste and nutritional needs.  \n",
    "- We will first study and organize the dataset to pick up on patterns across the food types  \n",
    "- Then we can create a hypothetical plan for the best way for the end user (the nutritionist) to access and manipulate the data. Like a program, database, etc.  \n",
    "- Further, we could see if the nutritionist's meal options are sufficient by examinig how many options are available for different dietary needs  \n",
    "\n",
    "### Questions\n",
    "1. What "
   ]
  },
  {
   "cell_type": "markdown",
   "metadata": {},
   "source": [
    "### Data Acquisition\n",
    "\n",
    "preview of `nutrition.csv`:"
   ]
  },
  {
   "cell_type": "code",
   "execution_count": null,
   "metadata": {},
   "outputs": [],
   "source": [
    "import pandas as pd\n",
    "# create dataframe\n",
    "nutrition = pd.read_csv(\"nutrition.csv\")\n",
    "# display a preview\n",
    "nutrition.head()"
   ]
  },
  {
   "cell_type": "code",
   "execution_count": null,
   "metadata": {},
   "outputs": [],
   "source": [
    "# print the number of cols, rows\n",
    "print(\"~~~~~~~~~~~~~~~~~~~~~~~~~~~~~~~~~~~~~~~~~~~~~~~~~~~~~~~~~~~~~~~~~~~~~~~~~~~~~~~~~~~~~~~~~~~~~~~~~~~~~~~~~~\\nThere are \" + str(nutrition.shape[1]) + \" columns and \" + str(nutrition.shape[0]) + \" rows.\\n~~~~~~~~~~~~~~~~~~~~~~~~~~~~~~~~~~~~~~~~~~~~~~~~~~~~~~~~~~~~~~~~~~~~~~~~~~~~~~~~~~~~~~~~~~~~~~~~~~~~~~~~~~\\n\")"
   ]
  },
  {
   "cell_type": "code",
   "execution_count": null,
   "metadata": {},
   "outputs": [],
   "source": [
    "# basic statistics for the numerical columns\n",
    "nutrition.describe()"
   ]
  },
  {
   "cell_type": "code",
   "execution_count": null,
   "metadata": {},
   "outputs": [],
   "source": [
    "# show the data types\n",
    "nutrition.dtypes"
   ]
  },
  {
   "cell_type": "code",
   "execution_count": null,
   "metadata": {},
   "outputs": [],
   "source": [
    "# print all the column names\n",
    "nutrition.columns"
   ]
  },
  {
   "cell_type": "markdown",
   "metadata": {},
   "source": [
    "#### unique values"
   ]
  },
  {
   "cell_type": "code",
   "execution_count": null,
   "metadata": {},
   "outputs": [],
   "source": [
    "# display the number of unique values in each categorical column\n",
    "object_columns = nutrition.select_dtypes(include=['object']).columns  # set up a list of only the `object` dtypes\n",
    "\n",
    "for column in object_columns:  # iterate thru columns list\n",
    "    unique_count = nutrition[column].nunique()  # count how many unique values are present \n",
    "    print(f\"There are {unique_count} different values in `{column}`.\")  # print the number in the specified format"
   ]
  },
  {
   "cell_type": "markdown",
   "metadata": {},
   "source": [
    "#### missing values\n",
    "18% of the `saturated_fat` column is missing."
   ]
  },
  {
   "cell_type": "code",
   "execution_count": null,
   "metadata": {},
   "outputs": [],
   "source": [
    "# check for missing values\n",
    "missing_values = nutrition.isnull().sum()\n",
    "\n",
    "# calculate missing value counts for those columns where missing values are greater than zero\n",
    "missing_values_df = pd.DataFrame(missing_values[missing_values > 0], columns=['Count Missing'])\n",
    "\n",
    "# calculate the percentage of missing values for each column\n",
    "missing_pct = ((missing_values / nutrition.shape[0] * 100).round(3))\n",
    "# add missing count and percent to table\n",
    "missing_values_df[\"% Missing\"] = missing_pct\n",
    "\n",
    "# check if there are no missing values, and print a message if that's the case\n",
    "if missing_values_df.empty:\n",
    "    print(\"There are no missing values.\")\n",
    "else:\n",
    "    # display the table if there are missing values\n",
    "    display(missing_values_df)"
   ]
  },
  {
   "cell_type": "markdown",
   "metadata": {},
   "source": [
    "looks like there are a lot of entries where `total_fat` equals zero and `saturated_fat` is NaN. we can at least fill these values of `saturated_fat` with zero. We will do that after converting everything from strings to numerical values later on.  "
   ]
  },
  {
   "cell_type": "code",
   "execution_count": null,
   "metadata": {},
   "outputs": [],
   "source": [
    "nutrition.query(\"total_fat == 0\")"
   ]
  },
  {
   "cell_type": "code",
   "execution_count": null,
   "metadata": {},
   "outputs": [],
   "source": [
    "# check for missing values\n",
    "missing_values = nutrition.isnull().sum()\n",
    "\n",
    "# calculate missing value counts for those columns where missing values are greater than zero\n",
    "missing_values_df = pd.DataFrame(missing_values[missing_values > 0], columns=['Count Missing'])\n",
    "\n",
    "# calculate the percentage of missing values for each column\n",
    "missing_pct = ((missing_values / nutrition.shape[0] * 100).round(3))\n",
    "# add missing count and percent to table\n",
    "missing_values_df[\"% Missing\"] = missing_pct\n",
    "\n",
    "# check if there are no missing values, and print a message if that's the case\n",
    "if missing_values_df.empty:\n",
    "    print(\"There are no missing values.\")\n",
    "else:\n",
    "    # display the table if there are missing values\n",
    "    display(missing_values_df)"
   ]
  },
  {
   "cell_type": "code",
   "execution_count": null,
   "metadata": {},
   "outputs": [],
   "source": [
    "import missingno as msno\n",
    "msno.matrix(nutrition)"
   ]
  },
  {
   "cell_type": "markdown",
   "metadata": {},
   "source": [
    "#### duplicate rows\n",
    "there are no duplicates. "
   ]
  },
  {
   "cell_type": "code",
   "execution_count": null,
   "metadata": {},
   "outputs": [],
   "source": [
    "# check for duplicate rows\n",
    "duplicate_rows = nutrition.duplicated().sum()\n",
    "print(\"There are \" + str(duplicate_rows) + \" duplicate row(s).\\n\")\n",
    "\n",
    "# get a boolean series indicating which rows are duplicates (including the original rows)\n",
    "duplicate_mask = nutrition.duplicated(keep=False)\n",
    "\n",
    "# use mask to filter and display both the original and duplicate rows\n",
    "duplicate_rows_df = nutrition[duplicate_mask]\n",
    "duplicate_rows_df"
   ]
  },
  {
   "cell_type": "markdown",
   "metadata": {},
   "source": [
    "## data cleaning\n",
    "- we know that most columns contain a mixture of numbers (for amounts) and units (g for grams, mg for milligrams, etc).   \n",
    "- first, we check and see if the units in each column are similar to what we see in the dataset's .head() preview above, or if there are multiple units present in columns.  \n",
    "- the result shows that no column contains more than one unit, but many also fall into the 'other' category. this could mean that there are other units we don't see in the .head(), or it could mean that there is no unit at all.  "
   ]
  },
  {
   "cell_type": "code",
   "execution_count": null,
   "metadata": {},
   "outputs": [],
   "source": [
    "# define a function which accepts input of a string containing a number (for the amount) plus a unit (g, mg, or mcg)\n",
    "def check_unit(value):\n",
    "\n",
    "    # first, convert each value to a string so the function can be applied\n",
    "    # if a value is present (non-null), assign the string version of each value to `str_value`. if a null is encountered, an empty string is added\n",
    "    str_value = str(value) if value is not None else ''\n",
    "\n",
    "    # classify each string of letters into the following categories using `if` critera\n",
    "    if 'g' in str_value:\n",
    "        return 'g'          # returns \"g\", detecting the input is in grams\n",
    "    elif 'mg' in str_value:\n",
    "        return 'mg'         # returns \"mg\", detecting the input is in milligrams\n",
    "    elif 'mcg' in str_value:\n",
    "        return 'mcg'         # returns \"mcg\", detecting the input is in micrograms\n",
    "    else:\n",
    "        return 'other'      # returns \"other\", detecting the input is something else\n",
    "\n",
    "# define an empty dictionary with which to store results\n",
    "column_units = {}\n",
    "\n",
    "# this nested `for` loop applies `check_unit` function to all items in a df\n",
    "for column in nutrition.select_dtypes(include=['object', 'float']):       # iterates through columns in given dataframe\n",
    "    units_in_column = set()     # initializes an empty set called `units_in_columms` (a set is used because it will automatically show duplicates only once)\n",
    "    for value in nutrition[column]:        # then, the nested loop iterates thru the values in each column\n",
    "        unit = check_unit(value)    # the `check_unit` function is called for each value\n",
    "        units_in_column.add(unit)   # the result returned from `check_unit` is then stored in the set, `units_in_column`\n",
    "    column_units[column] = units_in_column  # once the inner loop finishes, the units found are stored in the `column_units` dictionary with column names as keys\n",
    "\n",
    "column_units  # the results are printed\n"
   ]
  },
  {
   "cell_type": "markdown",
   "metadata": {},
   "source": [
    "- to determine what 'other' means for each column, we will modify the function to filter for numeric values.  \n",
    "- the resulting output shows that the 'other' category just meant that a value doesn't have any unit .  \n",
    "- the output shows that columns fall into one of four situations:  \n",
    "1. all values in the column are non-numeric. (`name` column)   \n",
    "2. all values in the column are numeric. (`calories`, `lucopene`)  \n",
    "3. all values in the column have some unit  \n",
    "4. some values in the column have a unit, some are numeric-only. for the ones with unit, the unit is the same throughout the column. since we're not sure whether numeric-only just means the unit was forgotten or whether it indicates something in particular, we will keep this in mind when the time comes to analyze the data.  \n",
    "5. some values in the column have a unit, some are missing (nan). for the ones with unit, the unit is the same throughout the column. (the only column this applies to is `saturated_fat`). "
   ]
  },
  {
   "cell_type": "code",
   "execution_count": null,
   "metadata": {},
   "outputs": [],
   "source": [
    "# define a function which accepts input of a string containing a number (for the amount) plus a unit (g, mg, or mcg)\n",
    "def check_unit(value):\n",
    "\n",
    "    # first, convert each value to a string so the function can be applied\n",
    "    # if a value is present (non-null), assign the string version of each value to `str_value`. if a null is encountered, an empty string is added\n",
    "    str_value = str(value) if value is not None else ''\n",
    "    \n",
    "    # then, extract non-numeric information from each item in `str_value` and assign the result to `non_numeric`\n",
    "    # the filter() tests each string using the lambda, which iterates thru the string and captures only non-digits and decimals ('.')\n",
    "    # the outer method, ''.join(), concatenates any non-numeric characters found into one string\n",
    "    # .strip() removes extra white spaces\n",
    "    non_numeric = ''.join(filter(lambda x: not x.isdigit() and x != '.', str_value)).strip()\n",
    "    return non_numeric if non_numeric else 'numeric'  # if `non_numeric` contains information it is returned; if it is empty, `numeric` is returned\n",
    "\n",
    "# define an empty dictionary with which to store results\n",
    "column_units = {}\n",
    "\n",
    "# this nested `for` loop applies `check_unit` function to all items in a df\n",
    "for column in nutrition.select_dtypes(include=['object', 'float', 'int']).columns:   # iterates through columns in given dataframe\n",
    "    units_in_column = set()     # initializes an empty set called `units_in_columms` (a set is used because it will automatically show duplicates only once)\n",
    "    for value in nutrition[column]:        # then, the nested loop iterates thru the values in each column\n",
    "        unit = check_unit(value)    # the `check_unit` function is called for each value\n",
    "        units_in_column.add(unit)   # the result returned from `check_unit` is then stored in the set, `units_in_column`\n",
    "    column_units[column] = units_in_column  # once the inner loop finishes, the units found are stored in the `column_units` dictionary with column names as keys\n",
    "\n",
    "column_units  # the results are printed"
   ]
  },
  {
   "cell_type": "markdown",
   "metadata": {},
   "source": [
    "- to make units more clear, we can add an argument to rename the columns with their unit appended.   \n",
    "- it will avoid `name` column altogether because it contains no unit info  \n",
    "- it will specify units for dictionary items with multiple entries by avoiding the strings `numeric` and `nan`  "
   ]
  },
  {
   "cell_type": "code",
   "execution_count": null,
   "metadata": {},
   "outputs": [],
   "source": [
    "# define a function which accepts input of a string containing a number (for the amount) plus a unit (g, mg, or mcg)\n",
    "def check_unit(value):\n",
    "    # first, convert each value to a string so the function can be applied\n",
    "    # if a value is present (non-null), assign the string version of each value to `str_value`. if a null is encountered, an empty string is added\n",
    "    str_value = str(value) if value is not None else ''\n",
    "    \n",
    "    # then, extract non-numeric information from each item in `str_value` and assign the result to `non_numeric`\n",
    "    # the filter() tests each string using the lambda, which iterates thru the string and captures only non-digits and decimals ('.')\n",
    "    # the outer method, ''.join(), concatenates any non-numeric characters found into one string\n",
    "    # .strip() removes extra white spaces\n",
    "    non_numeric = ''.join(filter(lambda x: not x.isdigit() and x != '.', str_value)).strip()\n",
    "    return non_numeric if non_numeric else 'numeric'  # if `non_numeric` contains information it is returned; if it is empty, `numeric` is returned\n",
    "\n",
    "# define an empty dictionary with which to store the differet resulting units, with column names as keys\n",
    "column_units = {}\n",
    "# defines an empty dictionary with which to store the new column names as values, with old column names as their keys\n",
    "renamed_columns = {}\n",
    "\n",
    "# this nested `for` loop applies `check_unit` function to all items in a df\n",
    "for column in nutrition.select_dtypes(include=['object', 'float', 'int']).columns:   # iterates through columns in given dataframe\n",
    "    if column == 'name':   # with the exception of `name`, which contains item descriptions\n",
    "        continue            # tells the for loop to skip this column\n",
    "\n",
    "    units_in_column = set()    # initializes an empty set called `units_in_columms` (a set is used because it will automatically show duplicates only once)\n",
    "    \n",
    "    # this inner loop will use the `check_unit` function on the values in columns\n",
    "    for value in nutrition[column]:        # then, the nested loop iterates thru the values in each column\n",
    "        unit = check_unit(value)    # the `check_unit` function is called for each value\n",
    "        units_in_column.add(unit)   # the result returned from `check_unit` is then stored in the set, `units_in_column`\n",
    "    column_units[column] = units_in_column  # once this inner loop finishes, the units found are stored in the `column_units` dictionary with column names as keys\n",
    "\n",
    "    # use a list comprehension and \n",
    "    # create `units` list which is like `units_in_column` but leaves out 'numeric' and 'nan' items\n",
    "    units = [u for u in units_in_column if u not in ['numeric', 'nan']]\n",
    "\n",
    "    # for each item in `unit` list which is filled (not empty), rename the column with the present item\n",
    "    if units:\n",
    "        unit_to_add = units[0]  # grab the first (and only) unit\n",
    "        new_column_name = f\"{column}_{unit_to_add}\"  # use constructor to append the unit's value to the column name in the format \"_unit\"\n",
    "        renamed_columns[column] = new_column_name  # add the new column name as a value to each old column name key in the `renamed_columns` dictionary\n",
    "\n",
    "nutrition.rename(columns=renamed_columns, inplace=True)  # carry out the renaming of the columns, using the `renamed_columns` dictionary as a mapping\n",
    "\n",
    "nutrition.columns  # print the new column names"
   ]
  },
  {
   "cell_type": "markdown",
   "metadata": {},
   "source": [
    "- then, we can remove the units from the individual values, converting them to floats so the data can be analyzed.  "
   ]
  },
  {
   "cell_type": "code",
   "execution_count": null,
   "metadata": {},
   "outputs": [],
   "source": [
    "# iterate through columns in `nutrition`\n",
    "for column in nutrition.columns:\n",
    "    # detects columns with an understcore (\"_\"), which indicate possible presence of a newly appended unit\n",
    "    if '_' in column:\n",
    "        # to mitigate the multiple underscores in certain columns, this splits up these columns and stores each as a list of strings between underscores\n",
    "        unit = column.split('_')[-1]  # the [-1] will select the last item in the list, as that is the appended unit\n",
    "\n",
    "        # below, the column values are stripped of their units and converted to floats\n",
    "        # values are converted to strings first using .astype(str)\n",
    "        # the particular `unit` is found and replaced with a white space using str.replace(unit, '')\n",
    "        # then the white space is stripped using str.strip()\n",
    "        # finally the to_numeric() function converts strings to floats. errors='coerce' will ensure null values are set to 'NaN'\n",
    "        nutrition[column] = pd.to_numeric(nutrition[column].astype(str).str.replace(unit, '').str.strip(), errors='coerce')\n",
    "\n",
    "nutrition.head()  # check the results\n"
   ]
  },
  {
   "cell_type": "markdown",
   "metadata": {},
   "source": [
    "Rechecking our msising values again. we can see that several values in the `vitamin_a_IU` column are now NaN because these ones contained `mcg` rather than `IU`. "
   ]
  },
  {
   "cell_type": "code",
   "execution_count": null,
   "metadata": {},
   "outputs": [],
   "source": [
    "# check for missing values\n",
    "missing_values = nutrition.isnull().sum()\n",
    "\n",
    "# calculate missing value counts for those columns where missing values are greater than zero\n",
    "missing_values_df = pd.DataFrame(missing_values[missing_values > 0], columns=['Count Missing'])\n",
    "\n",
    "# calculate the percentage of missing values for each column\n",
    "missing_pct = ((missing_values / nutrition.shape[0] * 100).round(3))\n",
    "# add missing count and percent to table\n",
    "missing_values_df[\"% Missing\"] = missing_pct\n",
    "\n",
    "# check if there are no missing values, and print a message if that's the case\n",
    "if missing_values_df.empty:\n",
    "    print(\"There are no missing values.\")\n",
    "else:\n",
    "    # display the table if there are missing values\n",
    "    display(missing_values_df)"
   ]
  },
  {
   "cell_type": "markdown",
   "metadata": {},
   "source": [
    "examining the 7 missing values for `vitamin_a_IU`, they occur at indexes 1091, 1391, 1628, 2150, 2460, 3598, and 7422\n",
    "\n",
    "after clearing outputs and examining these indexes' values prior to their turning into NaNs, we see these are the original values:  \n",
    "1091 = 0.00 mcg, 1391 = 0.00 mcg, 1628 = 0.00 mcg, 2150 = 0.00 mcg, 2460 = 0.00 mcg, 3598 = 89.00 mcg, 7422 = 17.00 mcg\n",
    "\n",
    "below, we impute the indexes with original values of 0 mcg and convert the other two using the conversion of 1 IU = 0.3 mcg.  \n",
    "\n",
    "now that we've turned everything into numerical values, we'll also fill in as many of `saturated_fat_g` with the zeroes in `total_fat_g`.  "
   ]
  },
  {
   "cell_type": "code",
   "execution_count": null,
   "metadata": {},
   "outputs": [],
   "source": [
    "nutrition.query(\"vitamin_a_IU != vitamin_a_IU\")"
   ]
  },
  {
   "cell_type": "code",
   "execution_count": null,
   "metadata": {},
   "outputs": [],
   "source": [
    "# 1 IU vitamin A  = 0.3mcg of retinol (the form predominant in animal meat)\n",
    "# 89.00 mcg = (1 IU / 0.3 mcg) \n",
    "print(\"impute the following for `vitamin_a_IU` for index 3598: \", 89.00 / 0.3)\n",
    "print(\"impute the following for `vitamin_a_IU` for index 7422: \", 17.00 / 0.3)"
   ]
  },
  {
   "cell_type": "code",
   "execution_count": null,
   "metadata": {},
   "outputs": [],
   "source": [
    "# replacing missing values in vitamin a column\n",
    "nutrition.loc[1091, 'vitamin_a_IU'] = '0.00'\n",
    "nutrition.loc[1391, 'vitamin_a_IU'] = '0.00'\n",
    "nutrition.loc[1628, 'vitamin_a_IU'] = '0.00'\n",
    "nutrition.loc[2150, 'vitamin_a_IU'] = '0.00'\n",
    "nutrition.loc[2460, 'vitamin_a_IU'] = '0.00'\n",
    "nutrition.loc[3598, 'vitamin_a_IU'] = '296.666667'\n",
    "nutrition.loc[7422, 'vitamin_a_IU'] = '56.666667'"
   ]
  },
  {
   "cell_type": "code",
   "execution_count": null,
   "metadata": {},
   "outputs": [],
   "source": [
    "# identify rows where `total_fat` is zero\n",
    "zero_fat_rows = nutrition['total_fat_g'] == 0.0\n",
    "\n",
    "# replace any NaN in `saturated_fat` column corresponding to the above rows\n",
    "nutrition.loc[zero_fat_rows, 'saturated_fat_g'] = nutrition.loc[zero_fat_rows, 'saturated_fat_g'].fillna(0.0)"
   ]
  },
  {
   "cell_type": "code",
   "execution_count": null,
   "metadata": {},
   "outputs": [],
   "source": [
    "# check for missing values\n",
    "missing_values = nutrition.isnull().sum()\n",
    "# calculate missing value counts for those columns where missing values are greater than zero\n",
    "missing_values_df = pd.DataFrame(missing_values[missing_values > 0], columns=['Count Missing'])\n",
    "# calculate the percentage of missing values for each column\n",
    "missing_pct = ((missing_values / nutrition.shape[0] * 100).round(3))\n",
    "# add missing count and percent to table\n",
    "missing_values_df[\"% Missing\"] = missing_pct\n",
    "# check if there are no missing values, and print a message if that's the case\n",
    "if missing_values_df.empty:\n",
    "    print(\"There are no missing values.\")\n",
    "else:\n",
    "    # display the table if there are missing values\n",
    "    display(missing_values_df)"
   ]
  },
  {
   "cell_type": "markdown",
   "metadata": {},
   "source": [
    "## Categorization of foods into groups and subgroups\n",
    "regex will be used to find keywords in `name` and categorize into 5 food groups defined by USDA: Fruit, Vegetables, Grain, Protein, Dairy. there will be 5 `food_group` columns and within each group there will be several columns for each subgroup. These columns  will contain boolean True or False depending on whether `name` contains the keyword from its category. afterward, we can use these boolean values to compile them into more intuitive category names in `food_group` and `subgroup` columns.  \n",
    "\n",
    "breakdown:   \n",
    "Fruit group  \n",
    "- Fruit  \n",
    "- Fruit Juice     \n",
    "\n",
    "Vegetable group  \n",
    "- Dark green vegetables   \n",
    "- Red/Orange vegetables  \n",
    "- Beans/Peas  \n",
    "- Starchy vegetables  \n",
    "- Other vegetables  \n",
    "\n",
    "Grain group  \n",
    "- Whole grain  \n",
    "- Refined grain  \n",
    "\n",
    "Protein group  \n",
    "- Meat/poultry/eggs  \n",
    "- Seafood  \n",
    "- Nuts/seeds/soy  \n",
    "\n",
    "Dairy group  \n",
    "- Milk/yogurt  \n",
    "- Cheese  "
   ]
  },
  {
   "cell_type": "code",
   "execution_count": null,
   "metadata": {},
   "outputs": [],
   "source": [
    "# convert `name` to lowercase so searches aren't case-sensitive\n",
    "nutrition['name'] = nutrition['name'].str.lower()"
   ]
  },
  {
   "cell_type": "markdown",
   "metadata": {},
   "source": [
    "#### add columns for `contains_fruit_group` and its subgroups"
   ]
  },
  {
   "cell_type": "code",
   "execution_count": null,
   "metadata": {},
   "outputs": [],
   "source": [
    "import re   # import re for regex\n",
    "# define a regex pattern for common fruits\n",
    "fruit_pattern = re.compile(r'(apple|banana|orange|strawberry|blueberry|raspberry|grape|kiwi|mango|pineapple|pear|peach|plum|cherry|watermelon|cantaloupe|lemon|lime|grapefruit|pomegranate|apricot|fig|coconut|avocado|blackberry|cranberry|date|elderberry|guava|kiwifruit|lychee|papaya|passion\\sfruit|tangerine)')\n",
    "# define a regex pattern for fruit juices\n",
    "fruit_juice_pattern = re.compile(r'(apple\\sjuice|orange\\sjuice|grape\\sjuice|pineapple\\sjuice|lemon\\sjuice|lime\\sjuice|mango\\sjuice|papaya\\sjuice|guava\\sjuice|strawberry\\sjuice|blueberry\\sjuice|raspberry\\sjuice|blackberry\\sjuice|cranberry\\sjuice|cherry\\sjuice|peach\\sjuice|pear\\sjuice|grapefruit\\sjuice|pomegranate\\sjuice|kiwi\\sjuice|watermelon\\sjuice)')\n",
    "\n",
    "# define the function to categorize the fruit group\n",
    "def contains_fruit_group(item):\n",
    "    if fruit_pattern.search(item) or fruit_juice_pattern.search(item):  # if `name` contains one of the common fruits or fruit juices\n",
    "        return True\n",
    "    else:  \n",
    "        return False\n",
    "\n",
    "# define function to categorize the fruit subgroup\n",
    "def contains_fruit(item):\n",
    "    if fruit_pattern.search(item):\n",
    "        return True\n",
    "    else:\n",
    "        return False\n",
    "\n",
    "# define function to categorize the fruit juice subgroup\n",
    "def contains_fruit_juice(item):\n",
    "    if fruit_juice_pattern.search(item):\n",
    "        return True\n",
    "    else:\n",
    "        return False\n",
    "\n",
    "# apply to `name` and create new columns with results\n",
    "nutrition['contains_fruit_group'] = nutrition['name'].apply(contains_fruit_group)\n",
    "nutrition['contains_fruit'] = nutrition['name'].apply(contains_fruit)\n",
    "nutrition['contains_fruit_juice'] = nutrition['name'].apply(contains_fruit_juice)"
   ]
  },
  {
   "cell_type": "markdown",
   "metadata": {},
   "source": [
    "#### add columns for `contains_vegetable_group` and its subgroups"
   ]
  },
  {
   "cell_type": "code",
   "execution_count": null,
   "metadata": {},
   "outputs": [],
   "source": [
    "# define regex patterns for different vegetable subgroups\n",
    "dark_green_vegetables_pattern = re.compile(r'(spinach|kale|collard\\sgreens|mustard\\sgreens|swiss\\schard|turnip\\sgreens|seaweed|bok\\schoy|broccoli|rabe|arugula|watercress)')\n",
    "red_orange_vegetables_pattern = re.compile(r'(carrot|pumpkin|sweet\\spotato|red\\spepper|orange\\spepper|butternut\\ssquash|acorn\\ssquash|tomato|beet|red\\sonion)')\n",
    "beans_peas_pattern = re.compile(r'(black\\sbeans|kidney\\sbeans|pinto\\sbeans|navy\\sbeans|chickpeas|lentils|split\\speas|green\\speas|black-eyed\\speas|lima\\sbeans)')\n",
    "starchy_vegetables_pattern = re.compile(r'(potato|corn|green\\speas|butternut\\ssquash|acorn\\ssquash|pumpkin|plantain|yam|taro|cassava)')\n",
    "other_vegetables_pattern = re.compile(r'(cucumber|bell\\spepper|zucchini|squash|eggplant|lettuce|celery|cabbage|brussels\\ssprouts|cauliflower|artichoke|asparagus|radish)')\n",
    "\n",
    "# define the function to categorize the vegetable group\n",
    "def contains_vegetable_group(item):\n",
    "    if dark_green_vegetables_pattern.search(item) or red_orange_vegetables_pattern.search(item) or beans_peas_pattern.search(item) or starchy_vegetables_pattern.search(item) or other_vegetables_pattern.search(item):\n",
    "        return True\n",
    "    else:\n",
    "        return False\n",
    "\n",
    "# define function to categorize the dark green vegetables subgroup\n",
    "def contains_dark_green_vegetables(item):\n",
    "    if dark_green_vegetables_pattern.search(item):\n",
    "        return True\n",
    "    else:\n",
    "        return False\n",
    "\n",
    "# define function to categorize the red/orange vegetables subgroup\n",
    "def contains_red_orange_vegetables(item):\n",
    "    if red_orange_vegetables_pattern.search(item):\n",
    "        return True\n",
    "    else:\n",
    "        return False\n",
    "\n",
    "# define function to categorize the beans/peas subgroup\n",
    "def contains_beans_peas(item):\n",
    "    if beans_peas_pattern.search(item):\n",
    "        return True\n",
    "    else:\n",
    "        return False\n",
    "\n",
    "# define function to categorize the starchy vegetables subgroup\n",
    "def contains_starchy_vegetables(item):\n",
    "    if starchy_vegetables_pattern.search(item):\n",
    "        return True\n",
    "    else:\n",
    "        return False\n",
    "\n",
    "# define function to categorize the other vegetables subgroup\n",
    "def contains_other_vegetables(item):\n",
    "    if other_vegetables_pattern.search(item):\n",
    "        return True\n",
    "    else:\n",
    "        return False\n",
    "\n",
    "# apply the functions to `name` and create new columns with results\n",
    "nutrition['contains_vegetable_group'] = nutrition['name'].apply(contains_vegetable_group)\n",
    "nutrition['contains_dark_green_vegetables'] = nutrition['name'].apply(contains_dark_green_vegetables)\n",
    "nutrition['contains_red_orange_vegetables'] = nutrition['name'].apply(contains_red_orange_vegetables)\n",
    "nutrition['contains_beans_peas'] = nutrition['name'].apply(contains_beans_peas)\n",
    "nutrition['contains_starchy_vegetables'] = nutrition['name'].apply(contains_starchy_vegetables)\n",
    "nutrition['contains_other_vegetables'] = nutrition['name'].apply(contains_other_vegetables)"
   ]
  },
  {
   "cell_type": "markdown",
   "metadata": {},
   "source": [
    "#### add `contains_grain_group` column"
   ]
  },
  {
   "cell_type": "code",
   "execution_count": null,
   "metadata": {},
   "outputs": [],
   "source": [
    "# define regex patterns for grain subgroups\n",
    "whole_grain_pattern = re.compile(r'(whole\\swheat\\sbread|brown\\srice|popcorn|oatmeal|quinoa|wild\\srice|bulgur|buckwheat|barley|millets|sorghum|whole\\srice|whole\\swheat\\spasta|whole\\swheat\\tortillas|rye\\sbread|whole\\swheat\\sbagels|spelt|amaranth|teff|triticale|whole\\swheat\\senglish\\smuffins|whole\\swheat\\spretzels)')\n",
    "refined_grain_pattern = re.compile(r'(white\\sbread|white\\srice|pretzels|english\\smuffins|corn\\stortilla|grits|regular\\spasta|bagels|crackers|noodles|pancakes|waffles|white\\sflour\\stortillas|croissants|pita\\sbread|refined\\scereal|refined\\swheat\\sflour|refined\\soat\\sproducts|refined\\sbarley\\sproducts|refined\\scorn\\sproducts)')\n",
    "\n",
    "# define the function to categorize the grain group\n",
    "def contains_grain_group(item):\n",
    "    if whole_grain_pattern.search(item) or refined_grain_pattern.search(item):\n",
    "        return True\n",
    "    else:\n",
    "        return False\n",
    "\n",
    "# define function to categorize the whole grain subgroup\n",
    "def contains_whole_grain(item):\n",
    "    if whole_grain_pattern.search(item):\n",
    "        return True\n",
    "    else:\n",
    "        return False\n",
    "\n",
    "# define function to categorize the refined grain subgroup\n",
    "def contains_refined_grain(item):\n",
    "    if refined_grain_pattern.search(item):\n",
    "        return True\n",
    "    else:\n",
    "        return False\n",
    "\n",
    "# apply the functions to `name` and new columns to store results\n",
    "nutrition['contains_grain_group'] = nutrition['name'].apply(contains_grain_group)\n",
    "nutrition['contains_whole_grain'] = nutrition['name'].apply(contains_whole_grain)\n",
    "nutrition['contains_refined_grain'] = nutrition['name'].apply(contains_refined_grain)"
   ]
  },
  {
   "cell_type": "markdown",
   "metadata": {},
   "source": [
    "#### add `contains_protein_group` column"
   ]
  },
  {
   "cell_type": "code",
   "execution_count": null,
   "metadata": {},
   "outputs": [],
   "source": [
    "# define regex patterns for different protein subgroups\n",
    "seafood_pattern = re.compile(r'(fish|shark|tuna|salmon|trout|mackerel|sardine|anchovy|cod|tilapia|halibut|catfish|snapper|swordfish|bass|grouper|perch|sole|flounder|crab|lobster|shrimp|prawn|clam|oyster|mussel|scallop|squid|octopus|crayfish|eel)')\n",
    "meat_poultry_eggs_pattern = re.compile(r'(beef|pork|chicken|lamb|turkey|veal|venison|bison|duck|goose|rabbit|quail|pheasant|ostrich|elk|kangaroo|boar|horse|emu|camel|goat|alligator|turtle|frog|snail|crayfish|muskrat|raccoon|possum|armadillo|skunk|beaver|woodchuck|buffalo|moose|caribou|guinea\\spig|pigeon|partridge|grouse|cornish\\shen|turducken|goose\\s?egg|duck\\s?egg|chicken\\s?egg|quail\\s?egg|ostrich\\s?egg|emu\\s?egg)')\n",
    "nuts_seeds_soy_pattern = re.compile(r'(almond|cashew|pecan|walnut|peanut|hazelnut|macadamia|pine\\snut|pistachio|sunflower\\sseeds|pumpkin\\sseeds|flaxseeds|chia\\sseeds|hemp\\sseeds|sesame\\sseeds|soybean|soy\\sproducts|tofu|tempeh)')\n",
    "\n",
    "# define the function to categorize the protein group\n",
    "def contains_protein_group(item):\n",
    "    if seafood_pattern.search(item) or meat_poultry_eggs_pattern.search(item) or nuts_seeds_soy_pattern.search(item):\n",
    "        return True\n",
    "    else:\n",
    "        return False\n",
    "\n",
    "# define function to categorize the meat/poultry/eggs subgroup\n",
    "def contains_meat_poultry_eggs(item):\n",
    "    if meat_poultry_eggs_pattern.search(item):\n",
    "        return True\n",
    "    else:\n",
    "        return False\n",
    "\n",
    "# define function to categorize the seafood subgroup\n",
    "def contains_seafood(item):\n",
    "    if seafood_pattern.search(item):\n",
    "        return True\n",
    "    else:\n",
    "        return False\n",
    "\n",
    "# define function to categorize the nuts/seeds/soy subgroup\n",
    "def contains_nuts_seeds_soy(item):\n",
    "    if nuts_seeds_soy_pattern.search(item):\n",
    "        return True\n",
    "    else:\n",
    "        return False\n",
    "\n",
    "# apply the functions to `name` and new columns to store results\n",
    "nutrition['contains_protein_group'] = nutrition['name'].apply(contains_protein_group)\n",
    "nutrition['contains_meat_poultry_eggs'] = nutrition['name'].apply(contains_meat_poultry_eggs)\n",
    "nutrition['contains_seafood'] = nutrition['name'].apply(contains_seafood)\n",
    "nutrition['contains_nuts_seeds_soy'] = nutrition['name'].apply(contains_nuts_seeds_soy)"
   ]
  },
  {
   "cell_type": "markdown",
   "metadata": {},
   "source": [
    "#### add `contains_dairy_group` column"
   ]
  },
  {
   "cell_type": "code",
   "execution_count": null,
   "metadata": {},
   "outputs": [],
   "source": [
    "# define regex patterns for dairy subgroups\n",
    "milk_yogurt_pattern = re.compile(\n",
    "    r'\\b(whole milk|skimmed milk|semi-skimmed milk|2% milk|1% milk|fat-free milk|lactose-free milk|almond milk|soy milk|oat milk|rice milk|coconut milk|goat milk|buffalo milk|'\n",
    "    r'\\b(whole milk|skimmed milk|semi-skimmed milk|2% milk|1% milk|fat-free milk|lactose-free milk|almond milk|soy milk|oat milk|rice milk|coconut milk|goat milk|buffalo milk) (vanilla|chocolate|strawberry|mint chocolate chip|cookies and cream|rocky road|butter pecan|coffee|pistachio|cookie dough|caramel|fudge|neapolitan|cherry|raspberry|blackberry|blueberry|lemon|orange|sherbet|sorbet|) ice cream|sherbet\\b'\n",
    "    r'yogurt|greek yogurt|plain yogurt|flavored yogurt|low-fat yogurt|full-fat yogurt|non-fat yogurt|probiotic yogurt|fruit yogurt|'\n",
    "    r'infant formula|baby formula|toddler formula|formula milk|soy formula|lactose-free formula|hydrolyzed formula|hypoallergenic formula|organic baby formula|iron-fortified formula|goat milk formula)\\b')\n",
    "cheese_pattern = re.compile(r'\\b(cheddar|gouda|brie|camembert|mozzarella|parmesan|feta|blue cheese|gorgonzola|roquefort|emmental|swiss cheese|monterey jack|provolone|ricotta|cottage cheese|cream cheese|colby|edam|goat cheese|pepper jack|asiago|manchego|halloumi|havarti|stilton)\\b')\n",
    "\n",
    "# define the function to categorize the dairy group\n",
    "def contains_dairy_group(item):\n",
    "    if milk_yogurt_pattern.search(item) or cheese_pattern.search(item):\n",
    "        return True\n",
    "    else:\n",
    "        return False\n",
    "\n",
    "# define function to categorize the milk/yogurt subgroup\n",
    "def contains_milk_yogurt(item):\n",
    "    if milk_yogurt_pattern.search(item):\n",
    "        return True\n",
    "    else:\n",
    "        return False\n",
    "\n",
    "# define function to categorize the cheese subgroup\n",
    "def contains_cheese(item):\n",
    "    if cheese_pattern.search(item):\n",
    "        return True\n",
    "    else:\n",
    "        return False\n",
    "\n",
    "# apply the functions to `name` and new columns to store results\n",
    "nutrition['contains_dairy_group'] = nutrition['name'].apply(contains_dairy_group)\n",
    "nutrition['contains_milk_yogurt'] = nutrition['name'].apply(contains_milk_yogurt)\n",
    "nutrition['contains_cheese'] = nutrition['name'].apply(contains_cheese)"
   ]
  },
  {
   "cell_type": "markdown",
   "metadata": {},
   "source": [
    "### Create `food_group` column to compile all food group categories into one column\n",
    "food group can be one of three categories:  \n",
    "1. single-group (`name` contains food from only one group)  \n",
    "2. dual-group (`name` contains food from two groups)  \n",
    "3. triple-group (`name` contains food from 3 groups)  "
   ]
  },
  {
   "cell_type": "code",
   "execution_count": null,
   "metadata": {},
   "outputs": [],
   "source": [
    "# Define funtion which categorizes items from the boolean columns\n",
    "def food_group(item):\n",
    "    groups = []    # initialize an empty list\n",
    "\n",
    "    # for each group, check if the item belongs to it, adding its name to the list if so\n",
    "    if contains_fruit_group(item):\n",
    "        groups.append('Fruit')\n",
    "    if contains_vegetable_group(item):\n",
    "        groups.append('Vegetable')\n",
    "    if contains_grain_group(item):\n",
    "        groups.append('Grain')\n",
    "    if contains_protein_group(item):\n",
    "        groups.append('Protein')\n",
    "    if contains_dairy_group(item):\n",
    "        groups.append('Dairy')\n",
    "\n",
    "    # join group names from the list into a string separated by commas\n",
    "    group_string = ', '.join(groups)\n",
    "\n",
    "    # return the appropriate string based on the number of groups\n",
    "    if not group_string:    # if no items were found\n",
    "        return 'None'\n",
    "    elif len(groups) > 3:   # if more than 3 names\n",
    "        return '4+'\n",
    "    else:                   # if 3 or fewer items were found and they are in group_string\n",
    "        return group_string\n",
    "        \n",
    "# apply function to `name` and store result in new column\n",
    "nutrition['food_group'] = nutrition['name'].apply(food_group)\n",
    "nutrition"
   ]
  },
  {
   "cell_type": "markdown",
   "metadata": {},
   "source": [
    "### Create `subgroup` column to compile all food subgroup categories into one column\n",
    "subgroups vary depending on what was found in this dataset (before additions are made to this data or use of this method on other data, additional categorization logic may need to be added)  \n",
    "many items belong to multiple subgroups.  "
   ]
  },
  {
   "cell_type": "code",
   "execution_count": null,
   "metadata": {},
   "outputs": [],
   "source": [
    "# Define function which categorizes `name` items into subgroups\n",
    "def subgroup(item):\n",
    "    groups = [] # initialize empty list to store subgroups\n",
    "\n",
    "    # check each main food group and its subgroups\n",
    "    if contains_fruit_group(item): # add fruit subgroups\n",
    "        if contains_fruit_juice(item):\n",
    "            groups.append('Fruit Juice')\n",
    "        elif contains_fruit(item):\n",
    "            groups.append('Fruit')      # assign name \"Fruit\" if an item falls into fruit category\n",
    "\n",
    "    if contains_vegetable_group(item): # add vegetable subgroups\n",
    "        veg_subgroups = ['Dark Green Vegetables', 'Red/Orange Vegetables', 'Beans/Peas', 'Starchy Vegetables', 'Other Vegetables']\n",
    "        veg_checks = [contains_dark_green_vegetables, contains_red_orange_vegetables, contains_beans_peas, contains_starchy_vegetables, contains_other_vegetables]\n",
    "        for subgroup, check_func in zip(veg_subgroups, veg_checks):\n",
    "            if check_func(item):\n",
    "                groups.append(subgroup)\n",
    "\n",
    "    if contains_grain_group(item): # add grain subgroups\n",
    "        groups.append('Whole Grain' if contains_whole_grain(item) else '')\n",
    "        groups.append('Refined Grain' if contains_refined_grain(item) else '')\n",
    "\n",
    "    if contains_protein_group(item): # add protein subgroups\n",
    "        protein_subgroups = ['Meat/Poultry/Eggs', 'Seafood', 'Nuts/Seeds/Soy']\n",
    "        protein_checks = [contains_meat_poultry_eggs, contains_seafood, contains_nuts_seeds_soy]\n",
    "        for subgroup, check_func in zip(protein_subgroups, protein_checks):\n",
    "            if check_func(item):\n",
    "                groups.append(subgroup)\n",
    "\n",
    "    if contains_dairy_group(item): # add dairy subgroups\n",
    "        groups.append('Milk/Yogurt' if contains_milk_yogurt(item) else '')\n",
    "        groups.append('Cheese' if contains_cheese(item) else '')\n",
    "\n",
    "    # Filter out empty strings and join the remaining groups\n",
    "    groups = [g for g in groups if g]\n",
    "    group_string = ', '.join(groups)\n",
    "\n",
    "    # return the appropriate string based on the number of groups\n",
    "    if not group_string:     # if no items were found\n",
    "        return 'None'\n",
    "    elif len(groups) >= 3:   # if more than 3 names\n",
    "        return '3+'\n",
    "    else:                    # if 3 or fewer items were found and they are in group_string\n",
    "        return group_string\n",
    "        \n",
    "# apply function to `name` and store result in new column        \n",
    "nutrition['subgroup'] = nutrition['name'].apply(subgroup)\n",
    "nutrition.head()"
   ]
  },
  {
   "cell_type": "markdown",
   "metadata": {},
   "source": [
    "## Visualizing the newly-created food groups and subgroups"
   ]
  },
  {
   "cell_type": "code",
   "execution_count": null,
   "metadata": {},
   "outputs": [],
   "source": [
    "# Plot: counts for each food group\n",
    "\n",
    "# create a filtered dataframe and order for foods which only fall into one food group\n",
    "single_group = nutrition.query(\"(food_group == 'Fruit') | (food_group == 'Vegetable') | (food_group == 'Grain') | (food_group == 'Protein') | (food_group == 'Dairy')\")\n",
    "single_order = ['Fruit', 'Vegetable', 'Grain', 'Protein', 'Dairy']\n",
    "\n",
    "# create a filtered dataframe and order for foods which fall into two food groups\n",
    "dual_group = nutrition.query(\n",
    "    \"(food_group == 'Fruit, Vegetable') |\" \n",
    "    \"(food_group == 'Fruit, Grain') |\"\n",
    "    \"(food_group == 'Fruit, Protein') |\" \n",
    "    \"(food_group == 'Fruit, Dairy') |\" \n",
    "\n",
    "    \"(food_group == 'Vegetable, Grain') |\" \n",
    "    \"(food_group == 'Vegetable, Protein') |\"\n",
    "    \"(food_group == 'Vegetable, Dairy') |\" \n",
    "\n",
    "    \"(food_group == 'Grain, Protein') |\" \n",
    "    \"(food_group == 'Grain, Dairy') |\"\n",
    "\n",
    "    \"(food_group == 'Protein, Dairy')\"\n",
    "\n",
    "    )\n",
    "dual_order = ['Fruit, Vegetable', 'Fruit, Grain', 'Fruit, Protein', 'Fruit, Dairy', 'Vegetable, Grain', 'Vegetable, Protein', 'Vegetable, Dairy', 'Grain, Protein', 'Grain, Dairy', 'Protein, Dairy']\n",
    "\n",
    "# create a filtered dataframe and order for foods which fall into three food groups\n",
    "triple_group = nutrition.query(\n",
    "    \"(food_group == 'Fruit, Vegetable, Grain') |\" \n",
    "    \"(food_group == 'Fruit, Vegetable, Protein') |\" \n",
    "    \"(food_group == 'Fruit, Vegetable, Dairy') |\" \n",
    "    \"(food_group == 'Fruit, Grain, Protein') |\" \n",
    "    \"(food_group == 'Fruit, Grain, Dairy') |\"\n",
    "    \"(food_group == 'Vegetable, Grain, Protein') |\"\n",
    "    \"(food_group == 'Vegetable, Grain, Dairy') |\"\n",
    "    \"(food_group == 'Vegetable, Protein, Dairy') |\"\n",
    "    \"(food_group == 'Grain, Protein, Dairy')\"\n",
    "    )\n",
    "triple_order = ['Fruit, Vegetable, Grain', 'Fruit, Vegetable, Protein', 'Fruit, Vegetable, Dairy', 'Fruit, Grain, Protein', 'Fruit, Grain, Dairy', 'Vegetable, Grain, Protein', 'Vegetable, Grain, Dairy', 'Vegetable, Protein, Dairy', 'Grain, Protein, Dairy']\n",
    "\n",
    "# initialize figure\n",
    "f, ax = plt.subplots(3, 1, figsize=(10, 14))\n",
    "sns.countplot(y='food_group', data=single_group, order=single_order, ax=ax[0])  # countplot for single-group items\n",
    "ax[0].set_title(\"Single-group items\")\n",
    "ax[0].set_ylabel(\"Food Group\")\n",
    "\n",
    "sns.countplot(y='food_group', data=dual_group, order=dual_order, ax=ax[1])  # countplot for dual-group items\n",
    "ax[1].set_title(\"Dual-group items\")\n",
    "#ax[1].set_xlim(0, 3400)  # <- toggle this to show the perspective wrt single-group subplot\n",
    "\n",
    "sns.countplot(y='food_group', data=triple_group, order=triple_order, ax=ax[2])  # countplot for triple-group items\n",
    "ax[2].set_title(\"Triple-group items\")\n",
    "#ax[2].set_xlim(0, 3400)  # <- toggle this to show the perspective wrt single-group subplot\n",
    "\n",
    "plt.show()  # show the plots"
   ]
  },
  {
   "cell_type": "code",
   "execution_count": null,
   "metadata": {},
   "outputs": [],
   "source": [
    "# Plot: count of each subgroup per food group in the data\n",
    "fruit_group = nutrition.query(\"food_group == 'Fruit'\")\n",
    "f, ax = plt.subplots(figsize=(6, 3))\n",
    "sns.countplot(y='subgroup', data=fruit_group)\n",
    "plt.show()"
   ]
  },
  {
   "cell_type": "code",
   "execution_count": null,
   "metadata": {},
   "outputs": [],
   "source": [
    "# Plot: count of each subgroup per food group in the data\n",
    "vegetable_group = nutrition.query(\"food_group == 'Vegetable'\")\n",
    "f, ax = plt.subplots(figsize=(6, 3))\n",
    "sns.countplot(y='subgroup', data=vegetable_group)\n",
    "plt.show()"
   ]
  },
  {
   "cell_type": "code",
   "execution_count": null,
   "metadata": {},
   "outputs": [],
   "source": [
    "# Plot: count of each subgroup per food group in the data\n",
    "grain_group = nutrition.query(\"food_group == 'Grain'\")\n",
    "f, ax = plt.subplots(figsize=(6, 3))\n",
    "sns.countplot(y='subgroup', data=grain_group)\n",
    "plt.show()"
   ]
  },
  {
   "cell_type": "code",
   "execution_count": null,
   "metadata": {},
   "outputs": [],
   "source": [
    "# Plot: count of each subgroup per food group in the data\n",
    "protein_group = nutrition.query(\"food_group == 'Protein'\")\n",
    "f, ax = plt.subplots(figsize=(6, 3))\n",
    "sns.countplot(y='subgroup', data=protein_group)\n",
    "plt.show()"
   ]
  },
  {
   "cell_type": "code",
   "execution_count": null,
   "metadata": {},
   "outputs": [],
   "source": [
    "# Plot: count of each subgroup per food group in the data\n",
    "dairy_group = nutrition.query(\"food_group == 'Dairy'\")\n",
    "f, ax = plt.subplots(figsize=(10, 3))\n",
    "sns.countplot(y='subgroup', data=dairy_group)\n",
    "plt.show()"
   ]
  },
  {
   "cell_type": "code",
   "execution_count": null,
   "metadata": {},
   "outputs": [],
   "source": [
    "# Plot: count of each subgroup per food group in the data\n",
    "f, ax = plt.subplots(figsize=(10, 3))\n",
    "\n",
    "sns.boxplot(x='food_group', y='calories', order=single_order, data=single_group)\n",
    "plt.show()"
   ]
  },
  {
   "cell_type": "code",
   "execution_count": null,
   "metadata": {},
   "outputs": [],
   "source": [
    "# Plot: count of each subgroup per food group in the data\n",
    "f, ax = plt.subplots(figsize=(10, 3))\n",
    "\n",
    "sns.boxplot(x='food_group', y='total_fat_g', order=single_order, data=single_group)\n",
    "plt.show()"
   ]
  },
  {
   "cell_type": "code",
   "execution_count": null,
   "metadata": {},
   "outputs": [],
   "source": [
    "# Plot: count of each subgroup per food group in the data\n",
    "f, ax = plt.subplots(figsize=(10, 3))\n",
    "\n",
    "sns.boxplot(x='food_group', y='carbohydrate_g', order=single_order, data=single_group)\n",
    "plt.show()"
   ]
  },
  {
   "cell_type": "code",
   "execution_count": null,
   "metadata": {},
   "outputs": [],
   "source": [
    "# Plot: count of each subgroup per food group in the data\n",
    "f, ax = plt.subplots(figsize=(10, 3))\n",
    "\n",
    "sns.boxplot(x='food_group', y='fiber_g', order=single_order, data=single_group)\n",
    "plt.show()"
   ]
  },
  {
   "cell_type": "code",
   "execution_count": null,
   "metadata": {},
   "outputs": [],
   "source": [
    "# Plot: count of each subgroup per food group in the data\n",
    "f, ax = plt.subplots(figsize=(10, 3))\n",
    "\n",
    "sns.boxplot(x='food_group', y='protein_g', order=single_order, data=single_group)\n",
    "plt.show()"
   ]
  },
  {
   "cell_type": "markdown",
   "metadata": {},
   "source": [
    "## Creating a score system for foods using the Nutrient Rich Foods Index   \n",
    "*\"This NRF algorithm was represented by the sum of the percentage of the daily values of 9 nutrients to encourage (protein, fiber, vitamin A, vitamin C, vitamin E, calcium, iron, magnesium, and potassium) minus the sum of the percentage of the maximum recommended values for 3 nutrients to limit (saturated fat, added sugar, and sodium).\"*  \n",
    "Drewnowski A. The Nutrient Rich Foods Index helps to identify healthy, affordable foods. Am J Clin Nutr. 2010 Apr;91(4):1095S-1101S. doi: 10.3945/ajcn.2010.28450D. Epub 2010 Feb 24. PMID: 20181811.\n",
    "https://pubmed.ncbi.nlm.nih.gov/20181811/#:~:text=Background%3A%20The%20Nutrient%20Rich%20Foods,are%20both%20nutritious%20and%20affordable.  \n",
    "\n",
    "(note: recc. daily values vary based on age, sex, lifestyle, pregnancy etc.)\n",
    "\n",
    "**daily values of 9 nutrients to encourage:**   \n",
    "1. protein: RDA (recc. daily allowance) for a 154 lb adult = ~56 g/day  \n",
    "2. fiber: AI (adequate intake) is 25g/day for women, 38g/day for men  \n",
    "3. vitamin A: RDA is 900mcg RAE (Retinol Activity Equivalents) per day for men, and 700 mcg RAE per day for women  \n",
    "4. vitamin C: RDA for Vitamin C is 90 mg/day for men and 75 mg/day for women. For smokers, an additional 35 mg per day is recommended   \n",
    "5. vitamin E: RDA is 15 mg (or 22.4 IU) of alpha-tocopherol per day     \n",
    "6. calcium: RDA is 1,000 mg/day for adults up to age 50 for men, and up to age 70 for women. 1,200 mg/day for women over 51 and men over 71  \n",
    "7. iron: RDA is 8 mg/day for men and 18 mg/day for women (ages 19-50), and 8 mg/day for women over 51  \n",
    "8. magnesium: RDA is 400-420 mg/day for men and 310-320 mg/day for women  \n",
    "9. potassium: AI is 2,600 mg/day for women and 3,400 mg/day for men  \n",
    "\n",
    "**daily values of the maximum recommended values for 3 nutrients to limit:**  \n",
    "1. saturated fat: the Dietary Guidelines for Americans recommend limiting saturated fat to less than 10% of total daily calories. For someone consuming 2,000 calories a day, this would be less than 20 grams of saturated fat per day   \n",
    "2. added sugar: the Dietary Guidelines for Americans advise limiting added sugars to less than 10% of your daily caloric intake. For a 2,000-calorie diet, this equates to less than 50 grams of added sugars per day. The American Heart Association goes further, recommending no more than 6 teaspoons (25 grams) of added sugar per day for women and 9 teaspoons (38 grams) for men  \n",
    "3. sodium: the Dietary Guidelines for Americans suggest consuming less than 2,300 milligrams (mg) of sodium per day as part of a healthy eating pattern. The American Heart Association recommends an ideal limit of no more than 1,500 mg per day for most adults, especially for those with high blood pressure  \n",
    "\n",
    "\n",
    "**calculation of nutrient scores**  \n",
    "each nutrient amount is divided by its daily recommended value and then by the listed calorie content. this results in the nutrient density. the score for each nutrient amount per 100g is the proportion of it to its daily recommendation (or limit, for negative nutrients).    \n",
    "\n",
    "1. **(+) protein:**  \n",
    "protein nutrient score = (*protein_g* / 56g) / *`calories`*  \n",
    "\n",
    "2. **(+) fiber:**    \n",
    "fiber nutrient score (average) = (*`fiber_g`*/ 31.5g) / *`calories`*  \n",
    "\n",
    "3. **(+) vitamin A:**    \n",
    "vitamin A nutrient score (average) = ((*`vitamin_a_IU`* /0.3)/ 800mcg) / *`calories`*  \n",
    "\n",
    "4. **(+) vitamin C:**    \n",
    "vitamin C nutrient score (average, not including smokers) = (*`vitamin_c_mg`* / 82.5mg) / *`calories`*      \n",
    "\n",
    "5. **(+) vitamin E:**    \n",
    "vitamin E nutrient score = (*`vitamin_e_mg`* / 15mg) / *calories*  \n",
    "\n",
    "6. **(+) calcium:**    \n",
    "calcium nutrient score (average) = (*`calcium_mg`* / 1100mg) / *calories* \n",
    "\n",
    "7. **(+) iron:**    \n",
    "iron nutrient score (average) = (*iron_mg* / 13mg) / *calories*  \n",
    "\n",
    "8. **(+) magnesium:**    \n",
    "magnesium nutrient score (average) = (*`magnesium_mg`* / 362.5mg) / *calories*     <- averaged between the given range   \n",
    "\n",
    "9. **(+) potassium:**  \n",
    "potassium nutrient score (average) = (*`potassium_mg`* / 3000mg) / *calories* \n",
    "\n",
    "1. **(-) saturated fat:**  \n",
    "saturated fat nutrient score = (*`saturated_fat_g`* / 20g) / *calories*   \n",
    "\n",
    "2. **(-) added sugar:**  \n",
    "added sugar nutrient score = (*`sugars_g`* / 20g) / *calories*   \n",
    "***note: since no data on specifically \"added\" sugars, we will use the `sugars` column as a rough approximation.  \n",
    "\n",
    "3. **(-) sodium:**  \n",
    "sodium nutrient score (recommended) = (*`sodium_mg`* / 2300mg) / *calories* \n",
    "sodium nutrient score (ideal) = (*`sodium_mg`* / 1500mg) / *calories* \n",
    "\n",
    "b. take the sum of all the positive nutrient scores and the negative scores. Then subtract the negative scores from the positive, resulting in the overall NRF score for each item.  \n",
    "NRF=∑(positive nutrient scores)−∑(negative nutrient scores)\n",
    "\n",
    "c. analyze: foods with higher NRF scores are more nutrient-rich and healthy in general.  \n",
    "\n",
    "** Notes: \n",
    "- we will not apply the function to food items which are zero-calorie (there are many drinks/drink mixes like this)\n",
    "- also we will avoid rows for which saturated fat is NaN because it is so integral to the calculation. this could be altered once those values are filled or deemed to be zero  "
   ]
  },
  {
   "cell_type": "code",
   "execution_count": null,
   "metadata": {},
   "outputs": [],
   "source": [
    "# define functions to calculate NRF score for each food item \n",
    "# NRF algorithm for average adult \n",
    "def NRF_score_adult(row):\n",
    "    calories = row['calories']  # define calories for the food item as one variable\n",
    "    if (calories > 0) and (row['saturated_fat_g'] == row['saturated_fat_g']):  # apply the function only to rows where we know saturated fat and are >0 calories\n",
    "        \n",
    "        # scores for positive nutrients\n",
    "        protein_score = (row['protein_g']/56)/calories\n",
    "        fiber_score = (row['fiber_g']/31.5)/calories  \n",
    "        vitamin_a_score = ((row['vitamin_a_IU']/0.3)/900)/calories  \n",
    "        vitamin_c_score = (row['vitamin_c_mg']/82.5)/calories\n",
    "        vitamin_e_score = (row['vitamin_e_mg']/15)/calories\n",
    "        calcium_score = (row['calcium_mg']/1100)/calories   \n",
    "        iron_score = (row['irom_mg']/13)/calories            \n",
    "        magnesium_score = (row['magnesium_mg']/362.5)/calories\n",
    "        potassium_score = (row['potassium_mg']/3000)/calories\n",
    "\n",
    "        # scores for negative nutrients\n",
    "        sat_fat_score = (row['saturated_fat_g']/20)\n",
    "        sugar_score = (row['sugars_g']/20)\n",
    "        sodium_score = (row['sodium_mg']/2300)\n",
    "    \n",
    "        # calculate totals for positive and negative\n",
    "        positive_nutrients = protein_score + fiber_score + vitamin_a_score + vitamin_c_score + vitamin_e_score + calcium_score + iron_score + magnesium_score + potassium_score\n",
    "        negative_nutrients = sat_fat_score + sugar_score + sodium_score\n",
    "\n",
    "        # the overall NRF score is returned\n",
    "        return positive_nutrients - negative_nutrients\n",
    "\n",
    "# ensure all involved columns are numerical\n",
    "columns_to_convert = ['protein_g', 'fiber_g', 'vitamin_a_IU', 'vitamin_c_mg', 'vitamin_e_mg', \n",
    "                      'calcium_mg', 'irom_mg', 'magnesium_mg', 'potassium_mg', 'saturated_fat_g', 'sugars_g', \n",
    "                      'sodium_mg', 'calories']\n",
    "for col in columns_to_convert:\n",
    "    nutrition[col] = pd.to_numeric(nutrition[col], errors='coerce')\n",
    "\n",
    "# apply the function using multiple columns as inputs (axis=1), storing results in new columns\n",
    "nutrition['NRF_score_adult'] = nutrition.apply(NRF_score_adult, axis=1)"
   ]
  },
  {
   "cell_type": "markdown",
   "metadata": {},
   "source": [
    "The resulting scores are on a scale of -1 to 1, with the more negative values representing less-nutritious foods and positive values representing more-nutritious foods.\n",
    "\n",
    "To conduct modeling on this data, we can go ahead and standardize the scores using z-score normalization which will ensure they have a mean of zero and standard deviation 1. \n",
    "\n",
    "We can also scale the scores to a range of 0 to 10, which will help our client (the nutritionist) explain the meaning of these scores to her clients. to a non-expert, thinking of foods on a scale of 1-10 is much easeir to remember, which can potentially help them evaluate food choices on their own."
   ]
  },
  {
   "cell_type": "code",
   "execution_count": null,
   "metadata": {},
   "outputs": [],
   "source": [
    "# Scaling scores using z-score normalization (AKA standardization)\n",
    "from sklearn.preprocessing import StandardScaler\n",
    "scaler = StandardScaler()  # instantiate the standardscaler\n",
    "# apply the normalization and store result new columns\n",
    "nutrition['NRF_score_adult'] = scaler.fit_transform(nutrition['NRF_score_adult'].values.reshape(-1, 1))"
   ]
  },
  {
   "cell_type": "code",
   "execution_count": null,
   "metadata": {},
   "outputs": [],
   "source": [
    "# Scaling scores using min-max method \n",
    "from sklearn.preprocessing import MinMaxScaler\n",
    "# instantiate MinMax scaler with range of 0-10 for client interpretability\n",
    "scaler = MinMaxScaler(feature_range=(0, 10))\n",
    "# apply the scaling and store results in new columns\n",
    "nutrition['NRF_score_adult'] = scaler.fit_transform(nutrition['NRF_score_adult'].values.reshape(-1, 1))"
   ]
  },
  {
   "cell_type": "markdown",
   "metadata": {},
   "source": [
    "below, the distribution of scores across all items in the dataset.  "
   ]
  },
  {
   "cell_type": "code",
   "execution_count": null,
   "metadata": {},
   "outputs": [],
   "source": [
    "# Plot: histogram of NRF scores\n",
    "f, ax = plt.subplots(1, 3, figsize=(14, 3))\n",
    "sns.histplot(x='NRF_score_adult', ax=ax[0], data=nutrition)  # plot for scores with no normalization or scaling\n",
    "ax[0].set_title('as-is')\n",
    "ax[0].set_xlabel('NRF Score')\n",
    "ax[0].set_ylabel('Number of food items')\n",
    "\n",
    "sns.histplot(x='NRF_score_adult', ax=ax[1], data=nutrition)  # plot for normalized scores\n",
    "ax[1].set_title('Normalized')\n",
    "ax[1].set_xlabel('NRF Score')\n",
    "ax[1].set_ylabel('')  # remove the y-axis label\n",
    "\n",
    "sns.histplot(x='NRF_score_adult', ax=ax[2], data=nutrition)  # plot for scaled scores\n",
    "ax[2].set_title('Scaled 0-10)')\n",
    "ax[2].set_xlabel('NRF Score')\n",
    "ax[2].set_ylabel('')  # remove the y-axis label\n",
    "\n",
    "plt.suptitle('Histograms of NRF scores for foods (for average adult)', y=1.05)  # super title\n",
    "plt.show() # show the plot"
   ]
  },
  {
   "cell_type": "markdown",
   "metadata": {},
   "source": [
    "## Visualizing the NRF scores for different food types"
   ]
  },
  {
   "cell_type": "code",
   "execution_count": null,
   "metadata": {},
   "outputs": [],
   "source": [
    "pd.set_option('display.max_rows', None) \n",
    "pd.set_option('display.max_colwidth', None)\n",
    "fruit_group.query(\"subgroup == 'Fruit, Fruit Juice'\")"
   ]
  },
  {
   "cell_type": "code",
   "execution_count": null,
   "metadata": {},
   "outputs": [],
   "source": [
    "# Plot: count of each subgroup per food group in the data\n",
    "fruit_group = nutrition.query(\"food_group == 'Fruit'\")\n",
    "f, ax = plt.subplots(figsize=(4, 3))\n",
    "f.subplots_adjust(wspace=0.1)\n",
    "sns.boxplot(x='subgroup', y='NRF_score_adult', ax=ax, data=fruit_group)\n",
    "ax.set_title('Fruit group')\n",
    "ax.set_ylabel('NRF Score', rotation=0)  # customize the y-axis label\n",
    "ax.get_yaxis().set_label_coords(-0.25,0.43)  # Adjust y-axis label position\n",
    "\n",
    "plt.show()"
   ]
  },
  {
   "cell_type": "code",
   "execution_count": null,
   "metadata": {},
   "outputs": [],
   "source": [
    "# Plot: \n",
    "vegetable_group = nutrition.query(\"food_group == 'Vegetable'\")\n",
    "f, ax = plt.subplots(figsize=(5, 3))\n",
    "sns.boxplot(x='NRF_score_adult', y='subgroup', ax=ax, data=vegetable_group)\n",
    "#ax.set_ylabel('')        # remove y-axis label\n",
    "#ax.set_yticklabels([])   # remove y-axis tick labels \n",
    "\n",
    "plt.show()"
   ]
  },
  {
   "cell_type": "code",
   "execution_count": null,
   "metadata": {},
   "outputs": [],
   "source": [
    "# Plot: count of each subgroup per food group in the data\n",
    "grain_group = nutrition.query(\"food_group == 'Grain'\")\n",
    "f, ax = plt.subplots(figsize=(6, 3))\n",
    "sns.boxplot(x='NRF_score_adult', y='subgroup', data=grain_group)\n",
    "plt.show()"
   ]
  },
  {
   "cell_type": "code",
   "execution_count": null,
   "metadata": {},
   "outputs": [],
   "source": [
    "# Plot: count of each subgroup per food group in the data\n",
    "protein_group = nutrition.query(\"food_group == 'Protein'\")\n",
    "f, ax = plt.subplots(figsize=(6, 3))\n",
    "sns.boxplot(x='NRF_score_adult', y='subgroup', data=protein_group)\n",
    "plt.show()"
   ]
  },
  {
   "cell_type": "code",
   "execution_count": null,
   "metadata": {},
   "outputs": [],
   "source": [
    "# Plot: count of each subgroup per food group in the data\n",
    "dairy_group = nutrition.query(\"food_group == 'Dairy'\")\n",
    "f, ax = plt.subplots(figsize=(6, 3))\n",
    "sns.boxplot(x='NRF_score_adult', y='subgroup', data=dairy_group)\n",
    "plt.show()"
   ]
  },
  {
   "cell_type": "markdown",
   "metadata": {},
   "source": [
    "below--for exporting the cleaned data as needed"
   ]
  },
  {
   "cell_type": "code",
   "execution_count": null,
   "metadata": {},
   "outputs": [],
   "source": [
    "#nutrition.to_csv('nutrition_cleaner.csv', index=False)"
   ]
  },
  {
   "cell_type": "code",
   "execution_count": null,
   "metadata": {},
   "outputs": [],
   "source": [
    "#nutrition_cleaner = pd.read_csv('nutrition_cleaner.csv')\n",
    "#nutrition_cleaner.head()"
   ]
  },
  {
   "cell_type": "code",
   "execution_count": null,
   "metadata": {},
   "outputs": [],
   "source": [
    "#nutrition_cleaner.drop(columns=['contains_fruit_group', 'contains_fruit', 'contains_fruit_juice', 'contains_vegetable_group', 'contains_dark_green_vegetables', 'contains_red_orange_vegetables', 'contains_beans_peas', 'contains_starchy_vegetables', 'contains_other_vegetables', 'contains_grain_group', 'contains_whole_grain', 'contains_refined_grain', 'contains_protein_group', 'contains_meat_poultry_eggs', 'contains_seafood', 'contains_nuts_seeds_soy', 'contains_dairy_group', 'contains_milk_yogurt', 'contains_cheese'], inplace=True)\n",
    "#nutrition_cleaner.head()"
   ]
  },
  {
   "cell_type": "code",
   "execution_count": null,
   "metadata": {},
   "outputs": [],
   "source": [
    "#nutrition_cleaner.to_csv('nutrition_cleanest.csv', index=False)"
   ]
  },
  {
   "cell_type": "code",
   "execution_count": null,
   "metadata": {},
   "outputs": [],
   "source": [
    "#test"
   ]
  }
 ],
 "metadata": {
  "kernelspec": {
   "display_name": "Python 3 (ipykernel)",
   "language": "python",
   "name": "python3"
  },
  "language_info": {
   "codemirror_mode": {
    "name": "ipython",
    "version": 3
   },
   "file_extension": ".py",
   "mimetype": "text/x-python",
   "name": "python",
   "nbconvert_exporter": "python",
   "pygments_lexer": "ipython3",
   "version": "3.11.5"
  }
 },
 "nbformat": 4,
 "nbformat_minor": 2
}
